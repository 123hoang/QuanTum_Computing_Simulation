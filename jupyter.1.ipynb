{
 "cells": [
  {
   "cell_type": "code",
   "execution_count": 27,
   "metadata": {},
   "outputs": [
    {
     "name": "stdout",
     "output_type": "stream",
     "text": [
      "Kính chào Thầy\n"
     ]
    }
   ],
   "source": [
    "print(\"Kính chào Thầy\")"
   ]
  },
  {
   "cell_type": "code",
   "execution_count": 40,
   "metadata": {},
   "outputs": [
    {
     "name": "stdout",
     "output_type": "stream",
     "text": [
      "Nhóm 2 Chủ đề 2 : Máy tính lượng tử\n"
     ]
    }
   ],
   "source": [
    "print(\"Nhóm 2\"+\" Chủ đề 2 : Máy tính lượng tử\")"
   ]
  },
  {
   "cell_type": "code",
   "execution_count": 29,
   "metadata": {},
   "outputs": [],
   "source": [
    "try:\n",
    "    import cirq\n",
    "except ImportError:\n",
    "    import cirq\n",
    "\n",
    "try:\n",
    "    import qsimcirq\n",
    "except ImportError:\n",
    "    import qsimcirq\n",
    "    "
   ]
  },
  {
   "cell_type": "code",
   "execution_count": 30,
   "metadata": {},
   "outputs": [
    {
     "name": "stdout",
     "output_type": "stream",
     "text": [
      "Circuit:\n",
      "0: ───H───@───\n",
      "          │\n",
      "1: ───────X───\n",
      "\n",
      "Cirq results:\n",
      "measurements: (no measurements)\n",
      "\n",
      "qubits: (cirq.LineQubit(0), cirq.LineQubit(1))\n",
      "output vector: 0.707|00⟩ + 0.707|11⟩\n",
      "\n",
      "phase:\n",
      "output vector: |⟩\n",
      "\n",
      "qsim results:\n",
      "measurements: (no measurements)\n",
      "\n",
      "qubits: (cirq.LineQubit(0), cirq.LineQubit(1))\n",
      "output vector: 0.707|00⟩ + 0.707|11⟩\n"
     ]
    }
   ],
   "source": [
    "# Define qubits and a short circuit.\n",
    "q0, q1 = cirq.LineQubit.range(2)\n",
    "circuit = cirq.Circuit(cirq.H(q0), cirq.CX(q0, q1))\n",
    "print(\"Circuit:\")\n",
    "print(circuit)\n",
    "print()\n",
    "\n",
    "# Simulate the circuit with Cirq and return the full state vector.\n",
    "print('Cirq results:')\n",
    "cirq_simulator = cirq.Simulator()\n",
    "cirq_results = cirq_simulator.simulate(circuit)\n",
    "print(cirq_results)\n",
    "print()\n",
    "\n",
    "# Simulate the circuit with qsim and return the full state vector.\n",
    "print('qsim results:')\n",
    "qsim_simulator = qsimcirq.QSimSimulator()\n",
    "qsim_results = qsim_simulator.simulate(circuit)\n",
    "print(qsim_results)"
   ]
  },
  {
   "cell_type": "code",
   "execution_count": 31,
   "metadata": {},
   "outputs": [
    {
     "name": "stdout",
     "output_type": "stream",
     "text": [
      "[[1 1]\n",
      " [0 0]\n",
      " [0 0]\n",
      " [0 0]\n",
      " [1 1]\n",
      " [0 0]\n",
      " [0 0]\n",
      " [1 1]\n",
      " [0 0]\n",
      " [1 1]\n",
      " [0 0]\n",
      " [1 1]\n",
      " [0 0]\n",
      " [0 0]\n",
      " [0 0]\n",
      " [1 1]\n",
      " [1 1]\n",
      " [1 1]\n",
      " [1 1]\n",
      " [1 1]\n",
      " [1 1]\n",
      " [0 0]\n",
      " [1 1]\n",
      " [1 1]\n",
      " [0 0]\n",
      " [1 1]\n",
      " [1 1]\n",
      " [1 1]\n",
      " [0 0]\n",
      " [1 1]\n",
      " [0 0]\n",
      " [1 1]\n",
      " [0 0]\n",
      " [1 1]\n",
      " [1 1]\n",
      " [1 1]\n",
      " [1 1]\n",
      " [1 1]\n",
      " [0 0]\n",
      " [1 1]\n",
      " [0 0]\n",
      " [0 0]\n",
      " [0 0]\n",
      " [0 0]\n",
      " [0 0]\n",
      " [1 1]\n",
      " [0 0]\n",
      " [1 1]\n",
      " [0 0]\n",
      " [0 0]\n",
      " [1 1]\n",
      " [1 1]\n",
      " [1 1]\n",
      " [0 0]\n",
      " [0 0]\n",
      " [1 1]\n",
      " [0 0]\n",
      " [0 0]\n",
      " [1 1]\n",
      " [0 0]\n",
      " [0 0]\n",
      " [1 1]\n",
      " [1 1]\n",
      " [0 0]\n",
      " [1 1]\n",
      " [0 0]\n",
      " [0 0]\n",
      " [1 1]\n",
      " [0 0]\n",
      " [0 0]\n",
      " [1 1]\n",
      " [1 1]\n",
      " [0 0]\n",
      " [1 1]\n",
      " [0 0]\n",
      " [0 0]\n",
      " [1 1]\n",
      " [0 0]\n",
      " [0 0]\n",
      " [1 1]\n",
      " [1 1]\n",
      " [1 1]\n",
      " [1 1]\n",
      " [1 1]\n",
      " [1 1]\n",
      " [1 1]\n",
      " [0 0]\n",
      " [0 0]\n",
      " [0 0]\n",
      " [1 1]\n",
      " [0 0]\n",
      " [1 1]\n",
      " [1 1]\n",
      " [0 0]\n",
      " [0 0]\n",
      " [0 0]\n",
      " [0 0]\n",
      " [0 0]\n",
      " [0 0]\n",
      " [0 0]]\n"
     ]
    }
   ],
   "source": [
    "samples = cirq.sample_state_vector(qsim_results.state_vector(), indices=[0, 1], repetitions=100)\n",
    "print(samples)"
   ]
  },
  {
   "cell_type": "code",
   "execution_count": 32,
   "metadata": {},
   "outputs": [
    {
     "name": "stdout",
     "output_type": "stream",
     "text": [
      "Circuit:\n",
      "0: ───X^0.5───M('m0')───X^0.5───M('m1')───X^0.5───M('m2')───\n",
      "\n",
      "qsim results:\n",
      "m0=00011\n",
      "m1=00110\n",
      "m2=11011\n"
     ]
    }
   ],
   "source": [
    "# Define a circuit with intermediate measurements.\n",
    "q0 = cirq.LineQubit(0)\n",
    "circuit = cirq.Circuit(\n",
    "    cirq.X(q0)**0.5, cirq.measure(q0, key='m0'),\n",
    "    cirq.X(q0)**0.5, cirq.measure(q0, key='m1'),\n",
    "    cirq.X(q0)**0.5, cirq.measure(q0, key='m2'),\n",
    ")\n",
    "print(\"Circuit:\")\n",
    "print(circuit)\n",
    "print()\n",
    "\n",
    "# Simulate the circuit with qsim and return just the measurement values.\n",
    "print('qsim results:')\n",
    "qsim_simulator = qsimcirq.QSimSimulator()\n",
    "qsim_results = qsim_simulator.run(circuit, repetitions=5)\n",
    "print(qsim_results)"
   ]
  },
  {
   "cell_type": "code",
   "execution_count": 33,
   "metadata": {},
   "outputs": [
    {
     "name": "stdout",
     "output_type": "stream",
     "text": [
      "Circuit:\n",
      "0: ───H───@───\n",
      "          │\n",
      "1: ───────X───\n",
      "\n",
      "Cirq results:\n",
      "[(0.7071067690849304+0j), 0j]\n",
      "\n",
      "qsim results:\n",
      "[(0.7071067690849304+0j), 0j]\n"
     ]
    }
   ],
   "source": [
    "# Define a simple circuit.\n",
    "q0, q1 = cirq.LineQubit.range(2)\n",
    "circuit = cirq.Circuit(cirq.H(q0), cirq.CX(q0, q1))\n",
    "print(\"Circuit:\")\n",
    "print(circuit)\n",
    "print()\n",
    "\n",
    "# Simulate the circuit with qsim and return the amplitudes for |00) and |01).\n",
    "print('Cirq results:')\n",
    "cirq_simulator = cirq.Simulator()\n",
    "cirq_results = cirq_simulator.compute_amplitudes(\n",
    "    circuit, bitstrings=[0b00, 0b01])\n",
    "print(cirq_results)\n",
    "print()\n",
    "\n",
    "# Simulate the circuit with qsim and return the amplitudes for |00) and |01).\n",
    "print('qsim results:')\n",
    "qsim_simulator = qsimcirq.QSimSimulator()\n",
    "qsim_results = qsim_simulator.compute_amplitudes(\n",
    "    circuit, bitstrings=[0b00, 0b01])\n",
    "print(qsim_results)"
   ]
  },
  {
   "cell_type": "code",
   "execution_count": 34,
   "metadata": {},
   "outputs": [
    {
     "name": "stdout",
     "output_type": "stream",
     "text": [
      "Cirq runtime: 3.197923183441162 seconds.\n",
      "\n",
      "qsim runtime: 0.09923887252807617 seconds.\n"
     ]
    }
   ],
   "source": [
    "import time\n",
    "\n",
    "# Get a rectangular grid of qubits.\n",
    "qubits = cirq.GridQubit.rect(4, 5)\n",
    "\n",
    "# Generates a random circuit on the provided qubits.\n",
    "circuit = cirq.experiments.random_rotations_between_grid_interaction_layers_circuit(\n",
    "    qubits=qubits, depth=16)\n",
    "\n",
    "# Simulate the circuit with Cirq and print the runtime.\n",
    "cirq_simulator = cirq.Simulator()\n",
    "cirq_start = time.time()\n",
    "cirq_results = cirq_simulator.simulate(circuit)\n",
    "cirq_elapsed = time.time() - cirq_start\n",
    "print(f'Cirq runtime: {cirq_elapsed} seconds.')\n",
    "print()\n",
    "\n",
    "# Simulate the circuit with qsim and print the runtime.\n",
    "qsim_simulator = qsimcirq.QSimSimulator()\n",
    "qsim_start = time.time()\n",
    "qsim_results = qsim_simulator.simulate(circuit)\n",
    "qsim_elapsed = time.time() - qsim_start\n",
    "print(f'qsim runtime: {qsim_elapsed} seconds.')"
   ]
  },
  {
   "cell_type": "code",
   "execution_count": 35,
   "metadata": {},
   "outputs": [
    {
     "name": "stdout",
     "output_type": "stream",
     "text": [
      "qsim runtime: 0.06698846817016602 seconds.\n"
     ]
    }
   ],
   "source": [
    "# Use eight threads to parallelize simulation.\n",
    "options = {'t': 8}\n",
    "\n",
    "qsim_simulator = qsimcirq.QSimSimulator(options)\n",
    "qsim_start = time.time()\n",
    "qsim_results = qsim_simulator.simulate(circuit)\n",
    "qsim_elapsed = time.time() - qsim_start\n",
    "print(f'qsim runtime: {qsim_elapsed} seconds.')"
   ]
  },
  {
   "cell_type": "code",
   "execution_count": 36,
   "metadata": {},
   "outputs": [
    {
     "name": "stdout",
     "output_type": "stream",
     "text": [
      "Circuit:\n",
      "(0, 0): ───H───@───────\n",
      "               │\n",
      "(0, 1): ───────X───X───\n"
     ]
    }
   ],
   "source": [
    "# Pick a pair of qubits.\n",
    "q0 = cirq.GridQubit(0, 0)\n",
    "q1 = cirq.GridQubit(0, 1)\n",
    "\n",
    "# Create a circuit that entangles the pair.\n",
    "circuit = cirq.Circuit(\n",
    "    cirq.H(q0), cirq.CX(q0, q1), cirq.X(q1)\n",
    ")\n",
    "print(\"Circuit:\")\n",
    "print(circuit)"
   ]
  },
  {
   "cell_type": "code",
   "execution_count": 37,
   "metadata": {},
   "outputs": [
    {
     "name": "stdout",
     "output_type": "stream",
     "text": [
      "[0j, (0.7071067690849304+0j), 0j, 0j]\n"
     ]
    }
   ],
   "source": [
    "options = {}\n",
    "\n",
    "# 'k' indicates the qubits on one side of the cut.\n",
    "# We'll use qubit 0 for this.\n",
    "options['k'] = [0]\n",
    "\n",
    "# 'p' and 'r' control when values are assigned to cut indices.\n",
    "# There are some intricacies in choosing values for these options,\n",
    "# but for now we'll set p=1 and r=0.\n",
    "# This allows us to pre-assign the value of the CX indices\n",
    "# and distribute its execution to multiple jobs.\n",
    "options['p'] = 1\n",
    "options['r'] = 0\n",
    "\n",
    "# 'w' indicates the value pre-assigned to the cut.\n",
    "# This should change for each execution.\n",
    "options['w'] = 0\n",
    "\n",
    "# Create the qsimh simulator with those options.\n",
    "qsimh_simulator = qsimcirq.QSimhSimulator(options)\n",
    "results_0 = qsimh_simulator.compute_amplitudes(\n",
    "    circuit, bitstrings=[0b00, 0b01, 0b10, 0b11])\n",
    "print(results_0)"
   ]
  },
  {
   "cell_type": "code",
   "execution_count": 38,
   "metadata": {},
   "outputs": [
    {
     "name": "stdout",
     "output_type": "stream",
     "text": [
      "[0j, 0j, (0.7071067690849304+0j), 0j]\n"
     ]
    }
   ],
   "source": [
    "options['w'] = 1\n",
    "\n",
    "qsimh_simulator = qsimcirq.QSimhSimulator(options)\n",
    "results_1 = qsimh_simulator.compute_amplitudes(\n",
    "    circuit, bitstrings=[0b00, 0b01, 0b10, 0b11])\n",
    "print(results_1)"
   ]
  },
  {
   "cell_type": "code",
   "execution_count": 39,
   "metadata": {},
   "outputs": [
    {
     "name": "stdout",
     "output_type": "stream",
     "text": [
      "qsimh results:\n",
      "[0j, (0.7071067690849304+0j), (0.7071067690849304+0j), 0j]\n",
      "qsim results:\n",
      "[0j, (0.7071067690849304+0j), (0.7071067690849304+0j), 0j]\n"
     ]
    }
   ],
   "source": [
    "results = [r0 + r1 for r0, r1 in zip(results_0, results_1)]\n",
    "print(\"qsimh results:\")\n",
    "print(results)\n",
    "\n",
    "qsim_simulator = qsimcirq.QSimSimulator()\n",
    "qsim_simulator.compute_amplitudes(circuit, bitstrings=[0b00, 0b01, 0b10, 0b11])\n",
    "print(\"qsim results:\")\n",
    "print(results)"
   ]
  }
 ],
 "metadata": {
  "kernelspec": {
   "display_name": "Python 3",
   "language": "python",
   "name": "python3"
  },
  "language_info": {
   "codemirror_mode": {
    "name": "ipython",
    "version": 3
   },
   "file_extension": ".py",
   "mimetype": "text/x-python",
   "name": "python",
   "nbconvert_exporter": "python",
   "pygments_lexer": "ipython3",
   "version": "3.12.2"
  }
 },
 "nbformat": 4,
 "nbformat_minor": 2
}
